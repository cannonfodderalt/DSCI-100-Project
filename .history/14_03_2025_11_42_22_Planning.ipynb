{
 "cells": [
  {
   "cell_type": "markdown",
   "id": "51ef09b3-9d5b-42cf-8635-ca9905094069",
   "metadata": {},
   "source": [
    "# Data Description:\n",
    "\n",
    "A research group at UBC has been collecting data on a Minecraft server to try to learn more about how people play games. They have provided some data for students to analyze. \n",
    "  \n",
    "There were two datasets given:\n",
    "- players.csv\n",
    "- sessions.csv\n",
    "\n",
    "In players.csv, the table contains a list of all unique players to play their Minecraft server.  \n",
    "This table contains the following seven columns:\n",
    "- `experience` - Amount of previous playtime\n",
    "- `subscribe` - True if the user is subscribed to a Gaming Related Newsletter\n",
    "- `hashedEmail` - Hidden email address of the user\n",
    "- `played_hours` - Hours played on their Minecraft server\n",
    "- `name`, `gender`, `age` - Basic demographic information  \n",
    "  \n",
    "There are 196 registered players in the dataset.\n",
    "\n",
    "In sessions.csv, the table consists of a list of all individual play sessions.  \n",
    "This table contains the following five columns:\n",
    "- `hashedEmail` - Same hashed email used in players.csv\n",
    "- `start_time` - Start date and time\n",
    "- `end_time` - End date and time\n",
    "- `original_start_time`, `original_end_time` - Likely times that got converted into `start_time` and `end_time`\n",
    "  \n",
    "There are 1535 playing sessions in the dataset."
   ]
  },
  {
   "cell_type": "markdown",
   "id": "3111d721-99e2-4406-a1d1-f1eb5eb73271",
   "metadata": {},
   "source": [
    "There are still some potential issues with this dataset:\n",
    "- Self reported demographics and experience may not be accurate\n",
    "- The restriction on age can remove some possible player data\n",
    "- People may create multiple accounts\n",
    "- End time may not be accurate if the user leaves the tab open\n",
    "- The gaming newsletter may not be specific to what the user likes"
   ]
  },
  {
   "cell_type": "markdown",
   "id": "12ebfa9d-4c45-4df6-b20d-32ee1e674eff",
   "metadata": {},
   "source": [
    "## Summary statistics:  "
   ]
  },
  {
   "cell_type": "markdown",
   "id": "7aea0626-ba21-4905-aa37-24c60fafeb87",
   "metadata": {},
   "source": [
    "To obtain the summary statistics, we must first load the R libraries and settings."
   ]
  },
  {
   "cell_type": "code",
   "execution_count": null,
   "id": "b17305d7-21d6-4afc-86de-ef63b94ba97e",
   "metadata": {},
   "outputs": [],
   "source": [
    "library(tidyverse)\n",
    "library(repr)\n",
    "library(tidymodels)\n",
    "library(dplyr)\n",
    "library(lubridate)\n",
    "# library(tidyr)\n",
    "options(repr.matrix.max.rows = 7)\n",
    "options(repr.plot.height = 8, repr.plot.width = 10)"
   ]
  },
  {
   "cell_type": "markdown",
   "id": "1016e66c-a07a-4dcf-9ef2-b0664c70e57b",
   "metadata": {},
   "source": [
    "Then, by reading the datasets out to variables, we can mutate the data to more descriptive categorical data. In sessions, we also want to seperate the dates and times into seperate columns, then transform the dates into a date format for later calculations.  \n",
    "It is now easier to find the summary statistics of both tables."
   ]
  },
  {
   "cell_type": "code",
   "execution_count": null,
   "id": "ff4c8fb8-8a8c-4e6c-8c89-48203b77a070",
   "metadata": {},
   "outputs": [],
   "source": [
    "sessions <- read_csv(\"sessions.csv\")\n",
    "players <- read_csv(\"players.csv\")\n",
    "players <- players |>\n",
    "    mutate(experience = as_factor(experience), subscribe = as_factor(subscribe), gender = as_factor(gender)) |>\n",
    "    mutate(subscribe = fct_recode(subscribe, \"Yes\" = \"TRUE\", \"No\" = \"FALSE\"))\n",
    "sessions <- sessions |>\n",
    "    mutate(start_time=as_datetime(parse_date_time(start_time, orders = \"dmy HM\"))) |>\n",
    "    mutate(end_time=as_datetime(parse_date_time(end_time, orders = \"dmy HM\")))\n",
    "sessions\n",
    "players"
   ]
  },
  {
   "cell_type": "markdown",
   "id": "3008afe9-3d02-4f3c-b89c-565ee4eb36dd",
   "metadata": {},
   "source": [
    "We can see from the above tables that there are 1535 recorded playing sessions and 196 registered users in this dataset.  \n",
    "  \n",
    "Next, we are going to focus on the categorical data. By using `group_by` and `summarize`, we can find the counts for all people with different experience, whether they are subscribed, and different genders. Using `arrange` to sort by descending, we can see the most common value."
   ]
  },
  {
   "cell_type": "code",
   "execution_count": null,
   "id": "7b804666-b462-4175-82f3-35f5521eb867",
   "metadata": {},
   "outputs": [],
   "source": [
    "experience_count <- players |>\n",
    "    group_by(experience) |>\n",
    "    summarize(count = n()) |>\n",
    "    arrange(-count)\n",
    "subscribed_count <- players |>\n",
    "    group_by(subscribe) |>\n",
    "    summarize(count = n()) |>\n",
    "    arrange(-count)\n",
    "gender_count <- players |>\n",
    "    group_by(gender) |>\n",
    "    summarize(count = n()) |>\n",
    "    arrange(-count)\n",
    "experience_count\n",
    "subscribed_count\n",
    "gender_count"
   ]
  },
  {
   "cell_type": "markdown",
   "id": "83c72554-2ab5-4fab-b19e-e90925878967",
   "metadata": {},
   "source": [
    "From these three tables, we can determine that:\n",
    "- 63/196 ≈ 32% of all players are Amateur (Described on website as \"Played a few hours of Minecraft\")\n",
    "- 144/196 ≈ 73% are subscribed to the newsletter\n",
    "- 124/196 ≈ 63% of all players are Male  \n",
    "  \n",
    "The next statistics we will look at is are the numeric ones, playtime and age. By using `arrange` and `summarize`, we can find various measurements, including maximum, minimum, standard deviation, etc."
   ]
  },
  {
   "cell_type": "code",
   "execution_count": null,
   "id": "cc95bcc8-d10a-4faf-8bc2-5a29d7a0162b",
   "metadata": {},
   "outputs": [],
   "source": [
    "playtime <- players |>\n",
    "    select(played_hours) |>\n",
    "    arrange(played_hours)\n",
    "max_playtime <- playtime |>\n",
    "    arrange(-played_hours) |>\n",
    "    slice(1) |>\n",
    "    pull()\n",
    "min_playtime <- playtime |>\n",
    "    slice(1) |>\n",
    "    pull()\n",
    "mean_playtime <- playtime |>\n",
    "    summarize(mean = mean(played_hours)) |>\n",
    "    pull()\n",
    "median_playtime <- playtime |>\n",
    "    summarize(median = median(played_hours)) |>\n",
    "    pull()\n",
    "sd_playtime <- playtime |>\n",
    "    summarize(sd = sd(played_hours)) |>\n",
    "    pull()\n",
    "max_playtime\n",
    "min_playtime\n",
    "round(mean_playtime, digits = 2)\n",
    "round(median_playtime, digits = 2)\n",
    "round(sd_playtime, digits = 2)"
   ]
  },
  {
   "cell_type": "code",
   "execution_count": null,
   "id": "e485141c-4502-471d-a952-a4c68fe08012",
   "metadata": {},
   "outputs": [],
   "source": [
    "age <- players |>\n",
    "    select(Age) |>\n",
    "    arrange(Age)\n",
    "max_age <- age |>\n",
    "    arrange(-Age) |>\n",
    "    slice(1) |>\n",
    "    pull()\n",
    "min_age <- age |>\n",
    "    slice(1) |>\n",
    "    pull()\n",
    "mean_age <- age |>\n",
    "    summarize(mean = mean(Age, na.rm = TRUE)) |>\n",
    "    pull()\n",
    "median_age <- age |>\n",
    "    summarize(median = median(Age, na.rm = TRUE),) |>\n",
    "    pull()\n",
    "sd_age <- age |>\n",
    "    summarize(sd = sd(Age, na.rm = TRUE)) |>\n",
    "    pull()\n",
    "max_age\n",
    "min_age\n",
    "round(mean_age, digits = 2)\n",
    "round(median_age, digits = 2)\n",
    "round(sd_age, digits = 2)"
   ]
  },
  {
   "cell_type": "markdown",
   "id": "02f4dd22-ebe3-4be6-a733-9ee0fe0d5a37",
   "metadata": {},
   "source": [
    "| Method | Hours of Playtime | Age |\n",
    "| ------ | ------ | ------ |\n",
    "| Max    | 223.1  | 50 |\n",
    "| Min    | 0      | 8 |\n",
    "| Mean   | 5.85   | 20.52 |\n",
    "| Median | 0.1    | 19 |\n",
    "| SD     | 28.36  | 6.17 |"
   ]
  },
  {
   "cell_type": "markdown",
   "id": "e0d76de6-3f4c-43cb-8bde-4ffba326390b",
   "metadata": {},
   "source": [
    "The final columns to look at are the start and end times. This includes both the original times, which seem to be represented in Unix time before conversion into a standard datetime format. As no timezone is indicated, the code will produce a result in UTC."
   ]
  },
  {
   "cell_type": "code",
   "execution_count": null,
   "id": "768f6150-d1ae-4149-9114-08f2f4ffb7c2",
   "metadata": {},
   "outputs": [],
   "source": [
    "min_start <- sessions |>\n",
    "    summarize(time=min(start_time, na.rm=TRUE)) |>\n",
    "    pull()\n",
    "max_start <- sessions |>\n",
    "    summarize(time=max(start_time, na.rm=TRUE)) |>\n",
    "    pull()\n",
    "mean_start <- sessions |>\n",
    "    summarize(time=mean(start_time, na.rm=TRUE)) |>\n",
    "    pull()\n",
    "median_start <- sessions |>\n",
    "    summarize(median = median(start_time, na.rm = TRUE),) |>\n",
    "    pull()\n",
    "min_start\n",
    "max_start\n",
    "mean_start\n",
    "median_start\n",
    "min_end <- sessions |>\n",
    "    summarize(time=min(end_time, na.rm=TRUE)) |>\n",
    "    pull()\n",
    "max_end <- sessions |>\n",
    "    summarize(time=max(end_time, na.rm=TRUE)) |>\n",
    "    pull()\n",
    "mean_end <- sessions |>\n",
    "    summarize(time=mean(end_time, na.rm=TRUE)) |>\n",
    "    pull()\n",
    "median_end <- sessions |>\n",
    "    summarize(median = median(end_time, na.rm = TRUE),) |>\n",
    "    pull()\n",
    "min_end\n",
    "max_end\n",
    "mean_end\n",
    "median_end"
   ]
  },
  {
   "cell_type": "code",
   "execution_count": null,
   "id": "4fded3d3-2895-4ded-a56f-d1fd007240cc",
   "metadata": {},
   "outputs": [],
   "source": [
    "min_original_start <- sessions |>\n",
    "    summarize(time=min(original_start_time, na.rm=TRUE)) |>\n",
    "    pull()\n",
    "max_original_start <- sessions |>\n",
    "    summarize(time=max(original_start_time, na.rm=TRUE)) |>\n",
    "    pull()\n",
    "mean_original_start <- sessions |>\n",
    "    summarize(time=mean(original_start_time, na.rm=TRUE)) |>\n",
    "    pull()\n",
    "median_original_start <- sessions |>\n",
    "    summarize(time=median(original_start_time, na.rm=TRUE)) |>\n",
    "    pull()\n",
    "min_original_start\n",
    "max_original_start\n",
    "mean_original_start\n",
    "median_original_start\n",
    "min_original_end <- sessions |>\n",
    "    summarize(time=min(original_end_time, na.rm=TRUE)) |>\n",
    "    pull()\n",
    "max_original_end <- sessions |>\n",
    "    summarize(time=max(original_end_time, na.rm=TRUE)) |>\n",
    "    pull()\n",
    "mean_original_end <- sessions |>\n",
    "    summarize(time=mean(original_end_time, na.rm=TRUE)) |>\n",
    "    pull()\n",
    "median_original_end <- sessions |>\n",
    "    summarize(time=median(original_end_time, na.rm=TRUE)) |>\n",
    "    pull()\n",
    "min_original_end\n",
    "max_original_end\n",
    "mean_original_end\n",
    "median_original_end"
   ]
  },
  {
   "cell_type": "markdown",
   "id": "095baa51-19eb-4d3d-8c64-408c006c1902",
   "metadata": {},
   "source": [
    "| Method | Start Time     | End Time       | Original Start Time | Original End Time |\n",
    "| ------ | -------------- | -------------- | ------------------- | ----------------- |\n",
    "| Min    | Apr 6th, 9:27  | Apr 6th, 9:31  | 1.7124e+12          | 1.7124e+12        |\n",
    "| Max    | Sep 26th, 6:09 | Sep 26th, 7:39 | 1.72733e+12         | 1.72734e+12       |\n",
    "| Mean   | Jun 24th, 3:54 | Jun 24th, 2:26 | 1.71920e+12         | 1.71919e+12       |\n",
    "| Median | Jun 24th, 2:51 | Jun 23rd, 22:04| 1.7192e+12          | 1.71918e+12       |"
   ]
  },
  {
   "cell_type": "markdown",
   "id": "530e83bf-9270-4403-8795-7c2303600e57",
   "metadata": {},
   "source": [
    "As the results showed that all dates were confined to 2024, I have ommited it from the table."
   ]
  },
  {
   "cell_type": "markdown",
   "id": "b4de6299-614b-42a5-868b-511e46eeaf16",
   "metadata": {},
   "source": [
    "## Question:"
   ]
  },
  {
   "cell_type": "code",
   "execution_count": null,
   "id": "6d5abb12-7781-446e-90eb-a0b9f525aaa5",
   "metadata": {},
   "outputs": [],
   "source": [
    "playtime <- ggplot(players, aes(x=experience, y=played_hours, fill=subscribe)) +\n",
    "    geom_bar(stat=\"identity\", position=\"dodge\") +\n",
    "    labs(x=\"Amount of Experience (in Minecraft)\", y=\"Playtime (hours)\", fill=\"Gaming Newsletter Subscription\") +\n",
    "    ggtitle(\"Amount of playtime for each level of experience\")\n",
    "experience_count_plot <- ggplot(experience_count, aes(x=experience, y=count, fill=experience)) +\n",
    "    geom_bar(stat=\"identity\") +\n",
    "    labs(x=\"Amount of Experience (in Minecraft)\", y=\"Number of Players\")\n",
    "experience_count_plot\n",
    "playtime"
   ]
  },
  {
   "cell_type": "code",
   "execution_count": null,
   "id": "712b899b-c4c2-4d04-9de8-678159fe3291",
   "metadata": {},
   "outputs": [],
   "source": []
  },
  {
   "cell_type": "code",
   "execution_count": null,
   "id": "8461f9fe-682e-4422-a042-4717728be39f",
   "metadata": {},
   "outputs": [],
   "source": []
  }
 ],
 "metadata": {
  "kernelspec": {
   "display_name": "R",
   "language": "R",
   "name": "ir"
  },
  "language_info": {
   "codemirror_mode": "r",
   "file_extension": ".r",
   "mimetype": "text/x-r-source",
   "name": "R",
   "pygments_lexer": "r",
   "version": "4.3.3"
  }
 },
 "nbformat": 4,
 "nbformat_minor": 5
}
